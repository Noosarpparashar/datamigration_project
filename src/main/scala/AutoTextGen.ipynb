{
 "cells": [
  {
   "cell_type": "code",
   "execution_count": 7,
   "id": "2892d9e5",
   "metadata": {},
   "outputs": [],
   "source": [
    "pyautogui.write('Hello world!')   "
   ]
  },
  {
   "cell_type": "code",
   "execution_count": 5,
   "id": "2273d5e7",
   "metadata": {
    "scrolled": false
   },
   "outputs": [],
   "source": [
    "import pyautogui"
   ]
  },
  {
   "cell_type": "code",
   "execution_count": 3,
   "id": "766d97a7",
   "metadata": {},
   "outputs": [
    {
     "name": "stdout",
     "output_type": "stream",
     "text": [
      "Requirement already satisfied: pyautogui in c:\\users\\paras\\anaconda3\\lib\\site-packages (0.9.54)\n",
      "Requirement already satisfied: pymsgbox in c:\\users\\paras\\anaconda3\\lib\\site-packages (from pyautogui) (1.0.9)\n",
      "Requirement already satisfied: pytweening>=1.0.4 in c:\\users\\paras\\anaconda3\\lib\\site-packages (from pyautogui) (1.0.7)\n",
      "Requirement already satisfied: pyscreeze>=0.1.21 in c:\\users\\paras\\anaconda3\\lib\\site-packages (from pyautogui) (0.1.29)\n",
      "Requirement already satisfied: pygetwindow>=0.0.5 in c:\\users\\paras\\anaconda3\\lib\\site-packages (from pyautogui) (0.0.9)\n",
      "Requirement already satisfied: mouseinfo in c:\\users\\paras\\anaconda3\\lib\\site-packages (from pyautogui) (0.1.3)\n",
      "Requirement already satisfied: pyrect in c:\\users\\paras\\anaconda3\\lib\\site-packages (from pygetwindow>=0.0.5->pyautogui) (0.2.0)\n",
      "Requirement already satisfied: pyscreenshot in c:\\users\\paras\\anaconda3\\lib\\site-packages (from pyscreeze>=0.1.21->pyautogui) (3.1)\n",
      "Requirement already satisfied: Pillow>=9.3.0 in c:\\users\\paras\\anaconda3\\lib\\site-packages (from pyscreeze>=0.1.21->pyautogui) (9.4.0)\n",
      "Requirement already satisfied: pyperclip in c:\\users\\paras\\anaconda3\\lib\\site-packages (from mouseinfo->pyautogui) (1.8.2)\n",
      "Requirement already satisfied: EasyProcess in c:\\users\\paras\\anaconda3\\lib\\site-packages (from pyscreenshot->pyscreeze>=0.1.21->pyautogui) (1.1)\n",
      "Requirement already satisfied: entrypoint2 in c:\\users\\paras\\anaconda3\\lib\\site-packages (from pyscreenshot->pyscreeze>=0.1.21->pyautogui) (1.1)\n",
      "Requirement already satisfied: mss in c:\\users\\paras\\anaconda3\\lib\\site-packages (from pyscreenshot->pyscreeze>=0.1.21->pyautogui) (9.0.1)\n"
     ]
    }
   ],
   "source": [
    "!pip3 install pyautogui"
   ]
  },
  {
   "cell_type": "code",
   "execution_count": 12,
   "id": "e8fd88d0",
   "metadata": {},
   "outputs": [],
   "source": [
    "pyautogui.write('Hello world!', interval=0.25)"
   ]
  },
  {
   "cell_type": "raw",
   "id": "2899674c",
   "metadata": {},
   "source": [
    "\n",
    "    "
   ]
  },
  {
   "cell_type": "raw",
   "id": "dff6bd1e",
   "metadata": {},
   "source": [
    "pyautogui.write('Hello world!', interval=0.25)"
   ]
  },
  {
   "cell_type": "code",
   "execution_count": 14,
   "id": "06500c77",
   "metadata": {},
   "outputs": [
    {
     "ename": "SyntaxError",
     "evalue": "unterminated string literal (detected at line 1) (4154646554.py, line 1)",
     "output_type": "error",
     "traceback": [
      "\u001b[1;36m  Cell \u001b[1;32mIn[14], line 1\u001b[1;36m\u001b[0m\n\u001b[1;33m    pyautogui.write('  itemdesc\u001b[0m\n\u001b[1;37m                    ^\u001b[0m\n\u001b[1;31mSyntaxError\u001b[0m\u001b[1;31m:\u001b[0m unterminated string literal (detected at line 1)\n"
     ]
    }
   ],
   "source": [
    "pyautogui.write('  itemdesc\n",
    "    .withColumn(\"items_to_json\", to_json(col(\"items_description\")))\n",
    "    .select(\n",
    "      col(\"*\"),\n",
    "      json_tuple(col(\"items_to_json\"), \"item_id\", \"price\", \"product_name\", \"quantity\").as(Seq(\"item_id\", \"price\", \"product_name\", \"quantity\"))\n",
    "    )\n",
    "    .select(\"transaction_id\", \"item_id\", \"price\", \"product_name\", \"quantity\")\n",
    "    .show()', interval=0.25)"
   ]
  },
  {
   "cell_type": "code",
   "execution_count": 30,
   "id": "902a4d3d",
   "metadata": {},
   "outputs": [],
   "source": [
    "import pyautogui\n",
    "import time\n",
    "\n",
    "# Function to type text character by character with a delay\n",
    "def type_text(text, interval=0.1):\n",
    "    time.sleep(3)\n",
    "    for char in text:\n",
    "        pyautogui.write(char)\n",
    "        time.sleep(interval)\n",
    "\n",
    "# The text to be typed\n",
    "weird_text = \"\"\"\n",
    " itemdesc\n",
    "    .withColumn(\"items_to_json\", to_json(col(\"items_description\")))\n",
    "    .select(\n",
    "      col(\"*\"),\n",
    "      json_tuple(col(\"items_to_json\"), \"item_id\", \"price\", \"product_name\", \"quantity\").as(Seq(\"item_id\", \"price\", \"product_name\", \"quantity\"))\n",
    "    )\n",
    "    .select(\"transaction_id\", \"item_id\", \"price\", \"product_name\", \"quantity\")\n",
    "    .show()\n",
    "\n",
    "\"\"\"\n",
    "\n",
    "# Type the weird text with a 0.25-second delay between each character\n",
    "type_text(weird_text, interval=0.01)\n"
   ]
  },
  {
   "cell_type": "code",
   "execution_count": null,
   "id": "7780d054",
   "metadata": {},
   "outputs": [],
   "source": []
  },
  {
   "cell_type": "markdown",
   "id": "5e1428a0",
   "metadata": {},
   "source": [
    "itemdesc\n",
    "  .withColumn(\" \")"
   ]
  }
 ],
 "metadata": {
  "kernelspec": {
   "display_name": "Python 3 (ipykernel)",
   "language": "python",
   "name": "python3"
  },
  "language_info": {
   "codemirror_mode": {
    "name": "ipython",
    "version": 3
   },
   "file_extension": ".py",
   "mimetype": "text/x-python",
   "name": "python",
   "nbconvert_exporter": "python",
   "pygments_lexer": "ipython3",
   "version": "3.11.4"
  }
 },
 "nbformat": 4,
 "nbformat_minor": 5
}
