{
 "cells": [
  {
   "cell_type": "code",
   "execution_count": 2,
   "id": "a5735dfd",
   "metadata": {},
   "outputs": [
    {
     "data": {
      "text/plain": [
       "import org.apache.spark.sql.SparkSession\r\n",
       "import org.apache.spark.sql.functions._\r\n",
       "import org.apache.spark.sql.types._\r\n"
      ]
     },
     "execution_count": 2,
     "metadata": {},
     "output_type": "execute_result"
    }
   ],
   "source": [
    "import org.apache.spark.sql.SparkSession\n",
    "import org.apache.spark.sql.functions._\n",
    "import org.apache.spark.sql.types._"
   ]
  },
  {
   "cell_type": "code",
   "execution_count": 25,
   "id": "ed4152ec",
   "metadata": {},
   "outputs": [
    {
     "data": {
      "text/html": [
       "\n",
       "<style>\n",
       "/*Disable code output line wrapping*/\n",
       "div.jp-OutputArea-output pre {\n",
       "    white-space: pre\n",
       "}\n",
       "</style>"
      ],
      "text/plain": [
       "<IPython.core.display.HTML object>"
      ]
     },
     "metadata": {},
     "output_type": "display_data"
    }
   ],
   "source": [
    "%%html\n",
    "\n",
    "<style>\n",
    "/*Disable code output line wrapping*/\n",
    "div.jp-OutputArea-output pre {\n",
    "    white-space: pre\n",
    "}\n",
    "</style>"
   ]
  },
  {
   "cell_type": "code",
   "execution_count": 3,
   "id": "f890a055",
   "metadata": {},
   "outputs": [
    {
     "name": "stdout",
     "output_type": "stream",
     "text": [
      "24/07/26 20:16:18 WARN SparkSession: Using an existing Spark session; only runtime SQL configurations will take effect.\r\n"
     ]
    },
    {
     "data": {
      "text/plain": [
       "spark: org.apache.spark.sql.SparkSession = org.apache.spark.sql.SparkSession@53679695\r\n"
      ]
     },
     "execution_count": 3,
     "metadata": {},
     "output_type": "execute_result"
    }
   ],
   "source": [
    "  val spark = SparkSession.builder()\n",
    "    .appName(\"E-commerce Transaction Processing\")\n",
    "    .master(\"local[*]\")\n",
    "    .getOrCreate()"
   ]
  },
  {
   "cell_type": "code",
   "execution_count": 5,
   "id": "d5eed215",
   "metadata": {},
   "outputs": [
    {
     "data": {
      "text/plain": [
       "schema: org.apache.spark.sql.types.StructType = StructType(StructField(customer_id,StringType,true),StructField(delivery_info,StructType(StructField(address,StructType(StructField(city,StringType,true),StructField(state,StringType,true),StructField(street,StringType,true),StructField(zip,StringType,true)),true),StructField(delivery_time,StringType,true),StructField(status,StringType,true)),true),StructField(items,ArrayType(StructType(StructField(item_id,StringType,true),StructField(price,DoubleType,true),StructField(product_name,StringType,true),StructField(quantity,LongType,true)),true),true),StructField(transaction_id,StringType,true),StructField(transaction_time,StringType,true))\r\n"
      ]
     },
     "execution_count": 5,
     "metadata": {},
     "output_type": "execute_result"
    }
   ],
   "source": [
    "  val schema = StructType(Array(\n",
    "    StructField(\"customer_id\", StringType, true),\n",
    "    StructField(\"delivery_info\", StructType(Array(\n",
    "      StructField(\"address\", StructType(Array(\n",
    "        StructField(\"city\", StringType, true),\n",
    "        StructField(\"state\", StringType, true),\n",
    "        StructField(\"street\", StringType, true),\n",
    "        StructField(\"zip\", StringType, true)\n",
    "      )), true),\n",
    "      StructField(\"delivery_time\", StringType, true),\n",
    "      StructField(\"status\", StringType, true)\n",
    "    )), true),\n",
    "    StructField(\"items\", ArrayType(StructType(Array(\n",
    "      StructField(\"item_id\", StringType, true),\n",
    "      StructField(\"price\", DoubleType, true),\n",
    "      StructField(\"product_name\", StringType, true),\n",
    "      StructField(\"quantity\", LongType, true)\n",
    "    )), true), true),\n",
    "    StructField(\"transaction_id\", StringType, true),\n",
    "    StructField(\"transaction_time\", StringType, true)\n",
    "  ))"
   ]
  },
  {
   "cell_type": "code",
   "execution_count": 10,
   "id": "7eecf37d",
   "metadata": {},
   "outputs": [
    {
     "data": {
      "text/plain": [
       "rawData: org.apache.spark.sql.DataFrame = [customer_id: string, delivery_info: struct<address: struct<city: string, state: string ... 2 more fields>, delivery_time: string ... 1 more field> ... 3 more fields]\r\n"
      ]
     },
     "execution_count": 10,
     "metadata": {},
     "output_type": "execute_result"
    }
   ],
   "source": [
    "  val rawData = spark.read\n",
    "//.schema(schema)\n",
    "    .option(\"multiline\", \"true\")\n",
    "    .json(\"C:\\\\Users\\\\paras\\\\OneDrive\\\\Desktop\\\\Startup\\\\Repositories\\\\scalaRepos\\\\complete_big_data_project\\\\datamigration_project\\\\src\\\\main\\\\scala\\\\com\\\\its\\\\youtube\\\\chapter1\\\\datasets\")"
   ]
  },
  {
   "cell_type": "code",
   "execution_count": 13,
   "id": "eb97a5c5",
   "metadata": {},
   "outputs": [
    {
     "name": "stdout",
     "output_type": "stream",
     "text": [
      "+-----------+--------------------+--------------------+--------------+--------------------+\n",
      "|customer_id|       delivery_info|               items|transaction_id|    transaction_time|\n",
      "+-----------+--------------------+--------------------+--------------+--------------------+\n",
      "|       C006|{{Metropolis, TX,...|[{I013, 1420.15, ...|          T010|2024-07-26T12:54:20Z|\n",
      "|       C010|{{Star City, TX, ...|[{I011, 366.81, K...|          T011|2024-07-26T12:51:20Z|\n",
      "|       C009|{{Central City, N...|[{I003, 278.87, L...|          T012|2024-07-26T13:10:20Z|\n",
      "|       C007|{{Metropolis, NJ,...|[{I018, 1288.94, ...|          T007|2024-07-26T13:26:18Z|\n",
      "|       C008|{{Star City, NY, ...|[{I002, 285.09, L...|          T008|2024-07-26T13:34:18Z|\n",
      "|       C009|{{Star City, TX, ...|[{I007, 670.77, L...|          T009|2024-07-26T13:08:18Z|\n",
      "|       C009|{{Metropolis, TX,...|[{I017, 1073.68, ...|          T001|2024-07-26T12:34:13Z|\n",
      "|       C003|{{Star City, NJ, ...|[{I003, 1414.45, ...|          T002|2024-07-26T13:20:13Z|\n",
      "|       C005|{{Gotham, CA, 523...|[{I002, 237.95, K...|          T003|2024-07-26T12:04:13Z|\n",
      "|       C009|{{Gotham, TX, 965...|[{I002, 1148.83, ...|          T004|2024-07-26T12:53:15Z|\n",
      "|       C005|{{Metropolis, TX,...|[{I013, 1159.6, L...|          T005|2024-07-26T12:39:15Z|\n",
      "|       C010|{{Star City, CA, ...|[{I010, 904.59, M...|          T006|2024-07-26T13:32:15Z|\n",
      "|       C001|{{Gotham, TX, 378...|[{I016, 1015.5, M...|          T013|2024-07-26T11:59:22Z|\n",
      "|       C006|{{Star City, NY, ...|[{I018, 1133.36, ...|          T014|2024-07-26T13:40:22Z|\n",
      "|       C008|{{Star City, NY, ...|[{I002, 117.55, M...|          T015|2024-07-26T13:17:22Z|\n",
      "+-----------+--------------------+--------------------+--------------+--------------------+\n",
      "\n"
     ]
    }
   ],
   "source": [
    "rawData.show()"
   ]
  },
  {
   "cell_type": "code",
   "execution_count": 23,
   "id": "06302ace",
   "metadata": {},
   "outputs": [
    {
     "data": {
      "text/plain": [
       "addressSchema: org.apache.spark.sql.types.StructType = StructType(StructField(street,StringType,true),StructField(city,StringType,true),StructField(state,StringType,true),StructField(zip,StringType,true))\r\n"
      ]
     },
     "execution_count": 23,
     "metadata": {},
     "output_type": "execute_result"
    }
   ],
   "source": [
    "val addressSchema = new StructType()\n",
    "  .add(\"street\", StringType)\n",
    "  .add(\"city\", StringType)\n",
    "  .add(\"state\", StringType)\n",
    "  .add(\"zip\", StringType)"
   ]
  },
  {
   "cell_type": "code",
   "execution_count": 35,
   "id": "dc5f0d42",
   "metadata": {},
   "outputs": [
    {
     "name": "stdout",
     "output_type": "stream",
     "text": [
      "+--------------+-----------+---------------+--------------------+------------+-----+------------+-----+\n",
      "|transaction_id|customer_id|delivery_status|delivery_time       |city        |state|street      |zip  |\n",
      "+--------------+-----------+---------------+--------------------+------------+-----+------------+-----+\n",
      "|T010          |C006       |Pending        |2024-07-27T13:57:20Z|Metropolis  |TX   |647 Elm St  |43720|\n",
      "|T011          |C010       |Delivered      |2024-07-30T13:57:20Z|Star City   |TX   |591 Maple St|41627|\n",
      "|T012          |C009       |Shipped        |2024-07-28T13:57:20Z|Central City|NJ   |541 Elm St  |82347|\n",
      "|T007          |C007       |Delivered      |2024-07-27T13:57:18Z|Metropolis  |NJ   |760 Pine St |45113|\n",
      "|T008          |C008       |Pending        |2024-07-29T13:57:18Z|Star City   |NY   |913 Elm St  |72383|\n",
      "|T009          |C009       |Shipped        |2024-07-29T13:57:18Z|Star City   |TX   |573 Elm St  |61206|\n",
      "|T001          |C009       |Pending        |2024-07-29T13:57:13Z|Metropolis  |TX   |139 Pine St |53312|\n",
      "|T002          |C003       |Shipped        |2024-07-29T13:57:13Z|Star City   |NJ   |938 Elm St  |92596|\n",
      "|T003          |C005       |Delivered      |2024-07-27T13:57:13Z|Gotham      |CA   |523 Elm St  |91151|\n",
      "|T004          |C009       |Shipped        |2024-07-29T13:57:15Z|Gotham      |TX   |965 Main St |68828|\n",
      "|T005          |C005       |Pending        |2024-07-28T13:57:15Z|Metropolis  |TX   |748 Main St |44658|\n",
      "|T006          |C010       |Delivered      |2024-07-29T13:57:15Z|Star City   |CA   |107 Main St |54049|\n",
      "|T013          |C001       |Delivered      |2024-07-30T13:57:22Z|Gotham      |TX   |378 Elm St  |52274|\n",
      "|T014          |C006       |Delivered      |2024-07-31T13:57:22Z|Star City   |NY   |215 Pine St |97207|\n",
      "|T015          |C008       |Delivered      |2024-07-30T13:57:22Z|Star City   |NY   |277 Main St |39218|\n",
      "+--------------+-----------+---------------+--------------------+------------+-----+------------+-----+\n",
      "\n"
     ]
    },
    {
     "data": {
      "text/plain": [
       "deliveryData: Unit = ()\r\n"
      ]
     },
     "execution_count": 35,
     "metadata": {},
     "output_type": "execute_result"
    }
   ],
   "source": [
    "val deliveryAddress = rawData\n",
    ".withColumn(\"delivery_info_json\", to_json(col(\"delivery_info\")))\n",
    ".select(\"transaction_id\",\"customer_id\",\"delivery_info_json\")\n",
    ".select(\n",
    "    col(\"*\"),\n",
    "    json_tuple(col(\"delivery_info_json\"), \"status\", \"delivery_time\", \"address\").as(Seq(\"delivery_status\", \"delivery_time\", \"address_json\"))\n",
    "  )\n",
    ".select(\"transaction_id\", \"customer_id\", \"delivery_status\", \"delivery_time\", \"address_json\")\n",
    ".select(\n",
    "    col(\"*\"),\n",
    "    json_tuple(col(\"address_json\"), \"city\", \"state\", \"street\", \"zip\").as(Seq(\"city\", \"state\", \"street\", \"zip\"))\n",
    "  )\n",
    ".select(\"transaction_id\", \"customer_id\", \"delivery_status\", \"delivery_time\", \"city\", \"state\", \"street\", \"zip\")\n",
    ".show(false)"
   ]
  },
  {
   "cell_type": "code",
   "execution_count": 36,
   "id": "7f707e40",
   "metadata": {},
   "outputs": [
    {
     "name": "stdout",
     "output_type": "stream",
     "text": [
      "+-----------+--------------------+--------------------+--------------+--------------------+\n",
      "|customer_id|       delivery_info|               items|transaction_id|    transaction_time|\n",
      "+-----------+--------------------+--------------------+--------------+--------------------+\n",
      "|       C006|{{Metropolis, TX,...|[{I013, 1420.15, ...|          T010|2024-07-26T12:54:20Z|\n",
      "|       C010|{{Star City, TX, ...|[{I011, 366.81, K...|          T011|2024-07-26T12:51:20Z|\n",
      "|       C009|{{Central City, N...|[{I003, 278.87, L...|          T012|2024-07-26T13:10:20Z|\n",
      "|       C007|{{Metropolis, NJ,...|[{I018, 1288.94, ...|          T007|2024-07-26T13:26:18Z|\n",
      "|       C008|{{Star City, NY, ...|[{I002, 285.09, L...|          T008|2024-07-26T13:34:18Z|\n",
      "|       C009|{{Star City, TX, ...|[{I007, 670.77, L...|          T009|2024-07-26T13:08:18Z|\n",
      "|       C009|{{Metropolis, TX,...|[{I017, 1073.68, ...|          T001|2024-07-26T12:34:13Z|\n",
      "|       C003|{{Star City, NJ, ...|[{I003, 1414.45, ...|          T002|2024-07-26T13:20:13Z|\n",
      "|       C005|{{Gotham, CA, 523...|[{I002, 237.95, K...|          T003|2024-07-26T12:04:13Z|\n",
      "|       C009|{{Gotham, TX, 965...|[{I002, 1148.83, ...|          T004|2024-07-26T12:53:15Z|\n",
      "|       C005|{{Metropolis, TX,...|[{I013, 1159.6, L...|          T005|2024-07-26T12:39:15Z|\n",
      "|       C010|{{Star City, CA, ...|[{I010, 904.59, M...|          T006|2024-07-26T13:32:15Z|\n",
      "|       C001|{{Gotham, TX, 378...|[{I016, 1015.5, M...|          T013|2024-07-26T11:59:22Z|\n",
      "|       C006|{{Star City, NY, ...|[{I018, 1133.36, ...|          T014|2024-07-26T13:40:22Z|\n",
      "|       C008|{{Star City, NY, ...|[{I002, 117.55, M...|          T015|2024-07-26T13:17:22Z|\n",
      "+-----------+--------------------+--------------------+--------------+--------------------+\n",
      "\n"
     ]
    }
   ],
   "source": [
    "rawData.show()"
   ]
  },
  {
   "cell_type": "code",
   "execution_count": 51,
   "id": "527cd011",
   "metadata": {},
   "outputs": [
    {
     "data": {
      "text/plain": [
       "itemdf: org.apache.spark.sql.DataFrame = [transaction_id: string, items: array<struct<item_id:string,price:double,product_name:string,quantity:bigint>>]\r\n"
      ]
     },
     "execution_count": 51,
     "metadata": {},
     "output_type": "execute_result"
    }
   ],
   "source": [
    "val itemdf = rawData.select(\"transaction_id\", \"items\")"
   ]
  },
  {
   "cell_type": "code",
   "execution_count": 52,
   "id": "a3dafd75",
   "metadata": {},
   "outputs": [
    {
     "data": {
      "text/plain": [
       "itemdesc: org.apache.spark.sql.DataFrame = [transaction_id: string, items_description: struct<item_id: string, price: double ... 2 more fields>]\r\n"
      ]
     },
     "execution_count": 52,
     "metadata": {},
     "output_type": "execute_result"
    }
   ],
   "source": [
    "val itemdesc = itemdf.withColumn(\"items_description\", explode(col(\"items\"))).select(\"transaction_id\", \"items_description\")"
   ]
  },
  {
   "cell_type": "code",
   "execution_count": 53,
   "id": "671bf199",
   "metadata": {},
   "outputs": [
    {
     "name": "stdout",
     "output_type": "stream",
     "text": [
      "+--------------+-------+-------+------------+--------+\n",
      "|transaction_id|item_id|  price|product_name|quantity|\n",
      "+--------------+-------+-------+------------+--------+\n",
      "|          T010|   I013|1420.15|     Monitor|       2|\n",
      "|          T010|   I015| 457.68|       Mouse|       5|\n",
      "|          T010|   I007|  665.8|       Mouse|       4|\n",
      "|          T010|   I011|1261.79|     Printer|       1|\n",
      "|          T010|   I016|1215.65|      Laptop|       1|\n",
      "|          T011|   I011| 366.81|    Keyboard|       3|\n",
      "|          T011|   I012| 886.75|     Printer|       4|\n",
      "|          T011|   I013| 707.81|     Printer|       1|\n",
      "|          T012|   I003| 278.87|      Laptop|       5|\n",
      "|          T012|   I001| 230.12|     Monitor|       1|\n",
      "|          T012|   I011|1462.52|       Mouse|       2|\n",
      "|          T012|   I019| 909.23|    Keyboard|       2|\n",
      "|          T007|   I018|1288.94|    Keyboard|       4|\n",
      "|          T008|   I002| 285.09|      Laptop|       4|\n",
      "|          T008|   I015|  822.2|    Keyboard|       4|\n",
      "|          T008|   I007| 254.34|       Mouse|       4|\n",
      "|          T008|   I018|  646.9|    Keyboard|       5|\n",
      "|          T008|   I007| 952.17|       Mouse|       2|\n",
      "|          T009|   I007| 670.77|      Laptop|       1|\n",
      "|          T009|   I020|1140.68|       Mouse|       2|\n",
      "+--------------+-------+-------+------------+--------+\n",
      "only showing top 20 rows\n",
      "\n"
     ]
    }
   ],
   "source": [
    "itemdesc\n",
    ".withColumn(\"items_to_json\", to_json(col(\"items_description\")))\n",
    ".select(\n",
    "col(\"*\"),\n",
    "    json_tuple(col(\"items_to_json\"), \"item_id\", \"price\", \"product_name\", \"quantity\").as(Seq(\"item_id\", \"price\", \"product_name\", \"quantity\"))\n",
    "  )\n",
    ".select(\"transaction_id\", \"item_id\", \"price\", \"product_name\", \"quantity\")\n",
    ".show()"
   ]
  },
  {
   "cell_type": "code",
   "execution_count": null,
   "id": "f0963692",
   "metadata": {},
   "outputs": [],
   "source": []
  }
 ],
 "metadata": {
  "kernelspec": {
   "display_name": "spylon-kernel",
   "language": "scala",
   "name": "spylon-kernel"
  },
  "language_info": {
   "codemirror_mode": "text/x-scala",
   "file_extension": ".scala",
   "help_links": [
    {
     "text": "MetaKernel Magics",
     "url": "https://metakernel.readthedocs.io/en/latest/source/README.html"
    }
   ],
   "mimetype": "text/x-scala",
   "name": "scala",
   "pygments_lexer": "scala",
   "version": "0.4.1"
  }
 },
 "nbformat": 4,
 "nbformat_minor": 5
}
